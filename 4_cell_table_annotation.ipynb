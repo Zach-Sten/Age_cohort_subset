{
 "cells": [
  {
   "cell_type": "markdown",
   "id": "ac12541e-092a-432c-8eb3-de7a368ccd2d",
   "metadata": {},
   "source": [
    "### Adding stuff to the cell table for downstream visualization and such"
   ]
  },
  {
   "cell_type": "code",
   "execution_count": 1,
   "id": "71c75f5f-d206-4c9f-b369-6061b78864a2",
   "metadata": {
    "execution": {
     "iopub.execute_input": "2024-02-08T23:23:06.242522Z",
     "iopub.status.busy": "2024-02-08T23:23:06.241794Z",
     "iopub.status.idle": "2024-02-08T23:23:06.777212Z",
     "shell.execute_reply": "2024-02-08T23:23:06.776382Z",
     "shell.execute_reply.started": "2024-02-08T23:23:06.242471Z"
    },
    "tags": []
   },
   "outputs": [],
   "source": [
    "# import needed libraries\n",
    "import os\n",
    "import numpy as np\n",
    "import pandas as pd"
   ]
  },
  {
   "cell_type": "code",
   "execution_count": 2,
   "id": "454f147e-6994-47fc-96e3-b498432ae8a5",
   "metadata": {
    "execution": {
     "iopub.execute_input": "2024-02-05T21:50:48.490040Z",
     "iopub.status.busy": "2024-02-05T21:50:48.488616Z",
     "iopub.status.idle": "2024-02-05T21:50:48.501929Z",
     "shell.execute_reply": "2024-02-05T21:50:48.500565Z",
     "shell.execute_reply.started": "2024-02-05T21:50:48.489989Z"
    },
    "tags": []
   },
   "outputs": [
    {
     "data": {
      "text/plain": [
       "'/krummellab/data1/zachsten/personal/MIBI_data_files/zach_test_sets/Scripts'"
      ]
     },
     "execution_count": 2,
     "metadata": {},
     "output_type": "execute_result"
    }
   ],
   "source": [
    "os.getcwd()"
   ]
  },
  {
   "cell_type": "code",
   "execution_count": 3,
   "id": "ef498bda-842f-487e-8a35-6ec54eace299",
   "metadata": {
    "execution": {
     "iopub.execute_input": "2024-02-05T21:50:48.504680Z",
     "iopub.status.busy": "2024-02-05T21:50:48.503824Z",
     "iopub.status.idle": "2024-02-05T21:50:48.514113Z",
     "shell.execute_reply": "2024-02-05T21:50:48.512572Z",
     "shell.execute_reply.started": "2024-02-05T21:50:48.504633Z"
    },
    "tags": []
   },
   "outputs": [
    {
     "data": {
      "text/plain": [
       "'/krummellab/data1/zachsten'"
      ]
     },
     "execution_count": 3,
     "metadata": {},
     "output_type": "execute_result"
    }
   ],
   "source": [
    "os.chdir('/krummellab/data1/zachsten')\n",
    "os.getcwd()"
   ]
  },
  {
   "cell_type": "code",
   "execution_count": 4,
   "id": "89cabb9d-39a4-497d-b67a-453e90fa3726",
   "metadata": {
    "execution": {
     "iopub.execute_input": "2024-02-05T21:51:36.554239Z",
     "iopub.status.busy": "2024-02-05T21:51:36.553420Z",
     "iopub.status.idle": "2024-02-05T21:51:36.562545Z",
     "shell.execute_reply": "2024-02-05T21:51:36.560281Z",
     "shell.execute_reply.started": "2024-02-05T21:51:36.554183Z"
    },
    "tags": []
   },
   "outputs": [],
   "source": [
    "base_dir = base_dir = \"personal/MIBI_data_files/zach_test_sets/\""
   ]
  },
  {
   "cell_type": "code",
   "execution_count": 5,
   "id": "6a43638f-58f7-418d-bb30-f623a0b637a4",
   "metadata": {
    "execution": {
     "iopub.execute_input": "2024-02-05T21:51:37.350494Z",
     "iopub.status.busy": "2024-02-05T21:51:37.349278Z",
     "iopub.status.idle": "2024-02-05T21:51:42.035739Z",
     "shell.execute_reply": "2024-02-05T21:51:42.034496Z",
     "shell.execute_reply.started": "2024-02-05T21:51:37.350437Z"
    },
    "tags": []
   },
   "outputs": [
    {
     "data": {
      "text/html": [
       "<div>\n",
       "<style scoped>\n",
       "    .dataframe tbody tr th:only-of-type {\n",
       "        vertical-align: middle;\n",
       "    }\n",
       "\n",
       "    .dataframe tbody tr th {\n",
       "        vertical-align: top;\n",
       "    }\n",
       "\n",
       "    .dataframe thead th {\n",
       "        text-align: right;\n",
       "    }\n",
       "</style>\n",
       "<table border=\"1\" class=\"dataframe\">\n",
       "  <thead>\n",
       "    <tr style=\"text-align: right;\">\n",
       "      <th></th>\n",
       "      <th>cell_size</th>\n",
       "      <th>BDCA3_CD141</th>\n",
       "      <th>Background_69</th>\n",
       "      <th>Background_71</th>\n",
       "      <th>Biotin_CD39</th>\n",
       "      <th>CD103</th>\n",
       "      <th>CD11b</th>\n",
       "      <th>CD11c</th>\n",
       "      <th>CD14</th>\n",
       "      <th>CD16</th>\n",
       "      <th>...</th>\n",
       "      <th>Xe_129</th>\n",
       "      <th>Xe_130</th>\n",
       "      <th>Xe_131</th>\n",
       "      <th>Xe_132</th>\n",
       "      <th>Xe_134</th>\n",
       "      <th>dsDNA</th>\n",
       "      <th>label</th>\n",
       "      <th>centroid-0</th>\n",
       "      <th>centroid-1</th>\n",
       "      <th>fov</th>\n",
       "    </tr>\n",
       "  </thead>\n",
       "  <tbody>\n",
       "    <tr>\n",
       "      <th>0</th>\n",
       "      <td>138.0</td>\n",
       "      <td>0.037004</td>\n",
       "      <td>0.405236</td>\n",
       "      <td>0.0</td>\n",
       "      <td>0.103868</td>\n",
       "      <td>0.130747</td>\n",
       "      <td>0.013961</td>\n",
       "      <td>0.009372</td>\n",
       "      <td>0.025640</td>\n",
       "      <td>0.030779</td>\n",
       "      <td>...</td>\n",
       "      <td>0.238837</td>\n",
       "      <td>0.241101</td>\n",
       "      <td>0.327001</td>\n",
       "      <td>0.298714</td>\n",
       "      <td>0.214173</td>\n",
       "      <td>0.318298</td>\n",
       "      <td>1.0</td>\n",
       "      <td>6.601449</td>\n",
       "      <td>50.014493</td>\n",
       "      <td>Set11_LN12-77e_800um</td>\n",
       "    </tr>\n",
       "    <tr>\n",
       "      <th>1</th>\n",
       "      <td>163.0</td>\n",
       "      <td>0.020947</td>\n",
       "      <td>0.373053</td>\n",
       "      <td>0.0</td>\n",
       "      <td>0.149941</td>\n",
       "      <td>0.052526</td>\n",
       "      <td>0.057989</td>\n",
       "      <td>0.004788</td>\n",
       "      <td>0.042757</td>\n",
       "      <td>0.044265</td>\n",
       "      <td>...</td>\n",
       "      <td>0.235883</td>\n",
       "      <td>0.195801</td>\n",
       "      <td>0.191910</td>\n",
       "      <td>0.271682</td>\n",
       "      <td>0.216424</td>\n",
       "      <td>1.012811</td>\n",
       "      <td>3.0</td>\n",
       "      <td>6.128834</td>\n",
       "      <td>372.122699</td>\n",
       "      <td>Set11_LN12-77e_800um</td>\n",
       "    </tr>\n",
       "    <tr>\n",
       "      <th>2</th>\n",
       "      <td>77.0</td>\n",
       "      <td>0.022230</td>\n",
       "      <td>0.462711</td>\n",
       "      <td>0.0</td>\n",
       "      <td>0.048279</td>\n",
       "      <td>0.231976</td>\n",
       "      <td>0.003966</td>\n",
       "      <td>0.053499</td>\n",
       "      <td>0.004196</td>\n",
       "      <td>0.032646</td>\n",
       "      <td>...</td>\n",
       "      <td>0.257634</td>\n",
       "      <td>0.297798</td>\n",
       "      <td>0.325021</td>\n",
       "      <td>0.353352</td>\n",
       "      <td>0.350572</td>\n",
       "      <td>0.119165</td>\n",
       "      <td>4.0</td>\n",
       "      <td>6.519481</td>\n",
       "      <td>3.649351</td>\n",
       "      <td>Set11_LN12-77e_800um</td>\n",
       "    </tr>\n",
       "    <tr>\n",
       "      <th>3</th>\n",
       "      <td>212.0</td>\n",
       "      <td>0.021005</td>\n",
       "      <td>0.335032</td>\n",
       "      <td>0.0</td>\n",
       "      <td>0.112716</td>\n",
       "      <td>0.064110</td>\n",
       "      <td>0.022794</td>\n",
       "      <td>0.007910</td>\n",
       "      <td>0.010450</td>\n",
       "      <td>0.035410</td>\n",
       "      <td>...</td>\n",
       "      <td>0.195521</td>\n",
       "      <td>0.228985</td>\n",
       "      <td>0.239821</td>\n",
       "      <td>0.282042</td>\n",
       "      <td>0.255664</td>\n",
       "      <td>0.897880</td>\n",
       "      <td>5.0</td>\n",
       "      <td>7.004717</td>\n",
       "      <td>357.627358</td>\n",
       "      <td>Set11_LN12-77e_800um</td>\n",
       "    </tr>\n",
       "    <tr>\n",
       "      <th>4</th>\n",
       "      <td>206.0</td>\n",
       "      <td>0.207794</td>\n",
       "      <td>0.396579</td>\n",
       "      <td>0.0</td>\n",
       "      <td>0.121463</td>\n",
       "      <td>0.161572</td>\n",
       "      <td>0.011845</td>\n",
       "      <td>0.010409</td>\n",
       "      <td>0.032160</td>\n",
       "      <td>0.046783</td>\n",
       "      <td>...</td>\n",
       "      <td>0.263757</td>\n",
       "      <td>0.200432</td>\n",
       "      <td>0.268490</td>\n",
       "      <td>0.293002</td>\n",
       "      <td>0.274117</td>\n",
       "      <td>0.237069</td>\n",
       "      <td>6.0</td>\n",
       "      <td>7.776699</td>\n",
       "      <td>28.665049</td>\n",
       "      <td>Set11_LN12-77e_800um</td>\n",
       "    </tr>\n",
       "    <tr>\n",
       "      <th>...</th>\n",
       "      <td>...</td>\n",
       "      <td>...</td>\n",
       "      <td>...</td>\n",
       "      <td>...</td>\n",
       "      <td>...</td>\n",
       "      <td>...</td>\n",
       "      <td>...</td>\n",
       "      <td>...</td>\n",
       "      <td>...</td>\n",
       "      <td>...</td>\n",
       "      <td>...</td>\n",
       "      <td>...</td>\n",
       "      <td>...</td>\n",
       "      <td>...</td>\n",
       "      <td>...</td>\n",
       "      <td>...</td>\n",
       "      <td>...</td>\n",
       "      <td>...</td>\n",
       "      <td>...</td>\n",
       "      <td>...</td>\n",
       "      <td>...</td>\n",
       "    </tr>\n",
       "    <tr>\n",
       "      <th>342407</th>\n",
       "      <td>117.0</td>\n",
       "      <td>0.151063</td>\n",
       "      <td>0.163254</td>\n",
       "      <td>0.0</td>\n",
       "      <td>0.004928</td>\n",
       "      <td>0.012602</td>\n",
       "      <td>0.056099</td>\n",
       "      <td>0.000000</td>\n",
       "      <td>0.000000</td>\n",
       "      <td>0.000000</td>\n",
       "      <td>...</td>\n",
       "      <td>2.039798</td>\n",
       "      <td>0.610382</td>\n",
       "      <td>1.764211</td>\n",
       "      <td>2.023114</td>\n",
       "      <td>1.188262</td>\n",
       "      <td>0.224857</td>\n",
       "      <td>3743.0</td>\n",
       "      <td>1019.658120</td>\n",
       "      <td>400.829060</td>\n",
       "      <td>Set8_TM2-Control</td>\n",
       "    </tr>\n",
       "    <tr>\n",
       "      <th>342408</th>\n",
       "      <td>81.0</td>\n",
       "      <td>0.023399</td>\n",
       "      <td>0.209401</td>\n",
       "      <td>0.0</td>\n",
       "      <td>0.007941</td>\n",
       "      <td>0.000425</td>\n",
       "      <td>0.018978</td>\n",
       "      <td>0.000000</td>\n",
       "      <td>0.000000</td>\n",
       "      <td>0.000190</td>\n",
       "      <td>...</td>\n",
       "      <td>2.356715</td>\n",
       "      <td>0.757244</td>\n",
       "      <td>2.066911</td>\n",
       "      <td>2.332699</td>\n",
       "      <td>1.499873</td>\n",
       "      <td>0.292577</td>\n",
       "      <td>3745.0</td>\n",
       "      <td>1021.012346</td>\n",
       "      <td>538.098765</td>\n",
       "      <td>Set8_TM2-Control</td>\n",
       "    </tr>\n",
       "    <tr>\n",
       "      <th>342409</th>\n",
       "      <td>98.0</td>\n",
       "      <td>0.113590</td>\n",
       "      <td>0.205720</td>\n",
       "      <td>0.0</td>\n",
       "      <td>0.000000</td>\n",
       "      <td>0.000000</td>\n",
       "      <td>0.024465</td>\n",
       "      <td>0.000000</td>\n",
       "      <td>0.000000</td>\n",
       "      <td>0.000000</td>\n",
       "      <td>...</td>\n",
       "      <td>2.521369</td>\n",
       "      <td>0.864365</td>\n",
       "      <td>2.265235</td>\n",
       "      <td>2.512345</td>\n",
       "      <td>1.637146</td>\n",
       "      <td>0.465986</td>\n",
       "      <td>3746.0</td>\n",
       "      <td>1020.112245</td>\n",
       "      <td>649.938776</td>\n",
       "      <td>Set8_TM2-Control</td>\n",
       "    </tr>\n",
       "    <tr>\n",
       "      <th>342410</th>\n",
       "      <td>70.0</td>\n",
       "      <td>0.000000</td>\n",
       "      <td>0.560251</td>\n",
       "      <td>0.0</td>\n",
       "      <td>0.000000</td>\n",
       "      <td>0.000988</td>\n",
       "      <td>0.010622</td>\n",
       "      <td>0.000616</td>\n",
       "      <td>0.000000</td>\n",
       "      <td>0.000000</td>\n",
       "      <td>...</td>\n",
       "      <td>2.745945</td>\n",
       "      <td>1.394125</td>\n",
       "      <td>2.807014</td>\n",
       "      <td>2.725864</td>\n",
       "      <td>1.791519</td>\n",
       "      <td>0.254387</td>\n",
       "      <td>3748.0</td>\n",
       "      <td>1020.385714</td>\n",
       "      <td>796.071429</td>\n",
       "      <td>Set8_TM2-Control</td>\n",
       "    </tr>\n",
       "    <tr>\n",
       "      <th>342411</th>\n",
       "      <td>58.0</td>\n",
       "      <td>0.010365</td>\n",
       "      <td>0.385706</td>\n",
       "      <td>0.0</td>\n",
       "      <td>0.000000</td>\n",
       "      <td>0.000000</td>\n",
       "      <td>0.012153</td>\n",
       "      <td>0.000000</td>\n",
       "      <td>0.000000</td>\n",
       "      <td>0.000000</td>\n",
       "      <td>...</td>\n",
       "      <td>2.842162</td>\n",
       "      <td>1.197181</td>\n",
       "      <td>2.546463</td>\n",
       "      <td>2.802281</td>\n",
       "      <td>1.920441</td>\n",
       "      <td>0.297132</td>\n",
       "      <td>3751.0</td>\n",
       "      <td>1021.017241</td>\n",
       "      <td>914.000000</td>\n",
       "      <td>Set8_TM2-Control</td>\n",
       "    </tr>\n",
       "  </tbody>\n",
       "</table>\n",
       "<p>342412 rows × 69 columns</p>\n",
       "</div>"
      ],
      "text/plain": [
       "        cell_size  BDCA3_CD141  Background_69  Background_71  Biotin_CD39  \\\n",
       "0           138.0     0.037004       0.405236            0.0     0.103868   \n",
       "1           163.0     0.020947       0.373053            0.0     0.149941   \n",
       "2            77.0     0.022230       0.462711            0.0     0.048279   \n",
       "3           212.0     0.021005       0.335032            0.0     0.112716   \n",
       "4           206.0     0.207794       0.396579            0.0     0.121463   \n",
       "...           ...          ...            ...            ...          ...   \n",
       "342407      117.0     0.151063       0.163254            0.0     0.004928   \n",
       "342408       81.0     0.023399       0.209401            0.0     0.007941   \n",
       "342409       98.0     0.113590       0.205720            0.0     0.000000   \n",
       "342410       70.0     0.000000       0.560251            0.0     0.000000   \n",
       "342411       58.0     0.010365       0.385706            0.0     0.000000   \n",
       "\n",
       "           CD103     CD11b     CD11c      CD14      CD16  ...    Xe_129  \\\n",
       "0       0.130747  0.013961  0.009372  0.025640  0.030779  ...  0.238837   \n",
       "1       0.052526  0.057989  0.004788  0.042757  0.044265  ...  0.235883   \n",
       "2       0.231976  0.003966  0.053499  0.004196  0.032646  ...  0.257634   \n",
       "3       0.064110  0.022794  0.007910  0.010450  0.035410  ...  0.195521   \n",
       "4       0.161572  0.011845  0.010409  0.032160  0.046783  ...  0.263757   \n",
       "...          ...       ...       ...       ...       ...  ...       ...   \n",
       "342407  0.012602  0.056099  0.000000  0.000000  0.000000  ...  2.039798   \n",
       "342408  0.000425  0.018978  0.000000  0.000000  0.000190  ...  2.356715   \n",
       "342409  0.000000  0.024465  0.000000  0.000000  0.000000  ...  2.521369   \n",
       "342410  0.000988  0.010622  0.000616  0.000000  0.000000  ...  2.745945   \n",
       "342411  0.000000  0.012153  0.000000  0.000000  0.000000  ...  2.842162   \n",
       "\n",
       "          Xe_130    Xe_131    Xe_132    Xe_134     dsDNA   label   centroid-0  \\\n",
       "0       0.241101  0.327001  0.298714  0.214173  0.318298     1.0     6.601449   \n",
       "1       0.195801  0.191910  0.271682  0.216424  1.012811     3.0     6.128834   \n",
       "2       0.297798  0.325021  0.353352  0.350572  0.119165     4.0     6.519481   \n",
       "3       0.228985  0.239821  0.282042  0.255664  0.897880     5.0     7.004717   \n",
       "4       0.200432  0.268490  0.293002  0.274117  0.237069     6.0     7.776699   \n",
       "...          ...       ...       ...       ...       ...     ...          ...   \n",
       "342407  0.610382  1.764211  2.023114  1.188262  0.224857  3743.0  1019.658120   \n",
       "342408  0.757244  2.066911  2.332699  1.499873  0.292577  3745.0  1021.012346   \n",
       "342409  0.864365  2.265235  2.512345  1.637146  0.465986  3746.0  1020.112245   \n",
       "342410  1.394125  2.807014  2.725864  1.791519  0.254387  3748.0  1020.385714   \n",
       "342411  1.197181  2.546463  2.802281  1.920441  0.297132  3751.0  1021.017241   \n",
       "\n",
       "        centroid-1                   fov  \n",
       "0        50.014493  Set11_LN12-77e_800um  \n",
       "1       372.122699  Set11_LN12-77e_800um  \n",
       "2         3.649351  Set11_LN12-77e_800um  \n",
       "3       357.627358  Set11_LN12-77e_800um  \n",
       "4        28.665049  Set11_LN12-77e_800um  \n",
       "...            ...                   ...  \n",
       "342407  400.829060      Set8_TM2-Control  \n",
       "342408  538.098765      Set8_TM2-Control  \n",
       "342409  649.938776      Set8_TM2-Control  \n",
       "342410  796.071429      Set8_TM2-Control  \n",
       "342411  914.000000      Set8_TM2-Control  \n",
       "\n",
       "[342412 rows x 69 columns]"
      ]
     },
     "execution_count": 5,
     "metadata": {},
     "output_type": "execute_result"
    }
   ],
   "source": [
    "cell_table_path = os.path.join(base_dir, 'segmentation_v1/cell_table_cell_rem/cell_table_arcsinh_transformed.csv')\n",
    "cell_table = pd.read_csv(cell_table_path)\n",
    "cell_table["
   ]
  },
  {
   "cell_type": "code",
   "execution_count": 24,
   "id": "3adf4109-e46a-4b1e-b3ce-390cd41b9ead",
   "metadata": {
    "execution": {
     "iopub.execute_input": "2024-02-05T22:10:18.329039Z",
     "iopub.status.busy": "2024-02-05T22:10:18.328146Z",
     "iopub.status.idle": "2024-02-05T22:10:18.565795Z",
     "shell.execute_reply": "2024-02-05T22:10:18.564730Z",
     "shell.execute_reply.started": "2024-02-05T22:10:18.328980Z"
    },
    "tags": []
   },
   "outputs": [
    {
     "name": "stdout",
     "output_type": "stream",
     "text": [
      "                         fov    fov_info\n",
      "0       Set11_LN12-77e_800um  uiLN_padra\n",
      "1       Set11_LN12-77e_800um  uiLN_padra\n",
      "2       Set11_LN12-77e_800um  uiLN_padra\n",
      "3       Set11_LN12-77e_800um  uiLN_padra\n",
      "4       Set11_LN12-77e_800um  uiLN_padra\n",
      "...                      ...         ...\n",
      "342407      Set8_TM2-Control     unknown\n",
      "342408      Set8_TM2-Control     unknown\n",
      "342409      Set8_TM2-Control     unknown\n",
      "342410      Set8_TM2-Control     unknown\n",
      "342411      Set8_TM2-Control     unknown\n",
      "\n",
      "[342412 rows x 2 columns]\n"
     ]
    }
   ],
   "source": [
    "cell_table['fov_info'] = None\n",
    "def map_fov_to_description(fov_value):\n",
    "    # Find the substring after \"Set\"\n",
    "    after_set = fov_value.split(\"Set\")[-1]  # This splits the string on \"Set\" and takes the last part\n",
    "    \n",
    "    # Now apply your mapping logic on 'after_set' instead of the whole 'fov_value'\n",
    "    if 'a' in after_set:\n",
    "        return 'tumor'\n",
    "    elif 'd' in after_set:\n",
    "        return 'uiLN_follicle'\n",
    "    elif 'e' in after_set:\n",
    "        return 'uiLN_padra'\n",
    "    elif 'f' in after_set:\n",
    "        return 'metLN_tumor'\n",
    "    elif 'g' in after_set:\n",
    "        return 'metLN_follicle'\n",
    "    elif 'h' in after_set:\n",
    "        return 'metLN_para'\n",
    "    else:\n",
    "        return 'unknown'  # Handle cases where the character is not present\n",
    "\n",
    "# Assuming 'cell_table' and its 'fov' column exist\n",
    "# Apply the modified function to create the \"fov_info\" column\n",
    "cell_table['fov_info'] = cell_table['fov'].apply(map_fov_to_description)\n",
    "\n",
    "# Display the updated DataFrame to see the 'fov_info' column\n",
    "print(cell_table[['fov', 'fov_info']])"
   ]
  },
  {
   "cell_type": "code",
   "execution_count": 35,
   "id": "56b24490-6b55-4ce3-af93-153ad3b91de5",
   "metadata": {
    "execution": {
     "iopub.execute_input": "2024-02-05T22:21:32.226159Z",
     "iopub.status.busy": "2024-02-05T22:21:32.225306Z",
     "iopub.status.idle": "2024-02-05T22:21:32.931381Z",
     "shell.execute_reply": "2024-02-05T22:21:32.929115Z",
     "shell.execute_reply.started": "2024-02-05T22:21:32.226103Z"
    },
    "tags": []
   },
   "outputs": [
    {
     "data": {
      "text/plain": [
       "array([77, 78, 84, 87, 93, 94, 95, 98, 46, 47, 53, 55, 56, 57, 81, 82, 83,\n",
       "       86, 91, 92, 25, 30, 33, 39, 40, 41, 43, 44, 45,  0])"
      ]
     },
     "execution_count": 35,
     "metadata": {},
     "output_type": "execute_result"
    }
   ],
   "source": [
    "#Fill in where 0 is going to be our control sample.\n",
    "cell_table['patient_ID'] = None\n",
    "def extract_patient_id(fov_value):\n",
    "    # Regular expression to match the first sequence of digits (\\d+) immediately after a hyphen (-)\n",
    "    match = re.search(r'-(\\d+)', fov_value)\n",
    "    if match:\n",
    "        # Extract and return the patient ID as an integer\n",
    "        return int(match.group(1))\n",
    "    else:\n",
    "        # Return None or an appropriate placeholder if no patient ID is found\n",
    "        return None\n",
    "# Apply the custom function to create the \"fov_info\" column\n",
    "cell_table['patient_ID'] = cell_table['fov'].apply(extract_patient_id)\n",
    "cell_table['patient_ID'] = cell_table['patient_ID'].fillna(0).astype(int)\n",
    "cell_table['patient_ID'].unique()"
   ]
  },
  {
   "cell_type": "code",
   "execution_count": 38,
   "id": "190be600-cf7a-404f-bf9a-efb11cf3fc48",
   "metadata": {
    "execution": {
     "iopub.execute_input": "2024-02-05T22:22:06.851361Z",
     "iopub.status.busy": "2024-02-05T22:22:06.850110Z",
     "iopub.status.idle": "2024-02-05T22:22:06.989939Z",
     "shell.execute_reply": "2024-02-05T22:22:06.988481Z",
     "shell.execute_reply.started": "2024-02-05T22:22:06.851303Z"
    },
    "tags": []
   },
   "outputs": [
    {
     "name": "stdout",
     "output_type": "stream",
     "text": [
      "['800um' '400um']\n"
     ]
    }
   ],
   "source": [
    "cell_table['fov_size'] = None\n",
    "# Define a custom function to map values in \"fov\" to descriptions\n",
    "def map_fov_to_description(fov_value):\n",
    "    if '800um' in fov_value:\n",
    "        return '800um'\n",
    "    else:\n",
    "        return '400um'  # Handle cases where neither 'e' nor 'f' is present\n",
    "\n",
    "# Apply the custom function to create the \"fov_info\" column\n",
    "cell_table['fov_size'] = cell_table['fov'].apply(map_fov_to_description)\n",
    "\n",
    "# Display the updated DataFrame\n",
    "print(cell_table['fov_size'].unique())"
   ]
  },
  {
   "cell_type": "code",
   "execution_count": 43,
   "id": "2f5f09ce-8404-4aa2-aed4-fdf28f2a1d7c",
   "metadata": {
    "execution": {
     "iopub.execute_input": "2024-02-05T22:36:03.305581Z",
     "iopub.status.busy": "2024-02-05T22:36:03.304767Z",
     "iopub.status.idle": "2024-02-05T22:36:03.317994Z",
     "shell.execute_reply": "2024-02-05T22:36:03.316259Z",
     "shell.execute_reply.started": "2024-02-05T22:36:03.305525Z"
    },
    "tags": []
   },
   "outputs": [
    {
     "data": {
      "text/plain": [
       "Index(['cell_size', 'BDCA3_CD141', 'Background_69', 'Background_71',\n",
       "       'Biotin_CD39', 'CD103', 'CD11b', 'CD11c', 'CD14', 'CD16', 'CD163',\n",
       "       'CD20', 'CD206', 'CD21', 'CD27', 'CD3', 'CD4', 'CD44', 'CD45', 'CD45RO',\n",
       "       'CD56', 'CD68', 'CD69', 'CD8', 'CD90', 'Ca', 'Cleaved_Caspase-3',\n",
       "       'FSP_S100A4EPR14639', 'FoxP3_AF488', 'Gold', 'Granzyme_B', 'HIFalpha',\n",
       "       'HLA_DR', 'HLA_class_1_A_B_and_C', 'Iron', 'K', 'KRT5', 'KRT8', 'Ki-67',\n",
       "       'MPO', 'Noodle_117', 'Noodle_118', 'Noodle_119', 'Noodle_120',\n",
       "       'Noodle_121', 'Noodle_122', 'Noodle_123', 'Noodle_124', 'Noodle_125',\n",
       "       'PD-1', 'PD-L1', 'Phosphorous', 'T-bet_TBX21', 'TCF1', 'Ta_metal',\n",
       "       'Titanium', 'Vimentin', 'Xe_126', 'Xe_128', 'Xe_129', 'Xe_130',\n",
       "       'Xe_131', 'Xe_132', 'Xe_134', 'dsDNA', 'label', 'centroid-0',\n",
       "       'centroid-1', 'fov', 'fov_info', 'patient_ID', 'fov_size'],\n",
       "      dtype='object')"
      ]
     },
     "execution_count": 43,
     "metadata": {},
     "output_type": "execute_result"
    }
   ],
   "source": [
    "cell_table.columns"
   ]
  },
  {
   "cell_type": "code",
   "execution_count": 40,
   "id": "702e56f7-6820-4e05-ba3d-7d87edc0ddfe",
   "metadata": {
    "execution": {
     "iopub.execute_input": "2024-02-05T22:23:37.252254Z",
     "iopub.status.busy": "2024-02-05T22:23:37.251232Z",
     "iopub.status.idle": "2024-02-05T22:24:12.867126Z",
     "shell.execute_reply": "2024-02-05T22:24:12.865383Z",
     "shell.execute_reply.started": "2024-02-05T22:23:37.252170Z"
    },
    "tags": []
   },
   "outputs": [],
   "source": [
    "cell_table.to_csv(os.path.join(base_dir, 'segmentation_v1/cell_table_annotated/cell_table_annotated_arcsinh_transformed.csv'))"
   ]
  },
  {
   "cell_type": "markdown",
   "id": "586d3855-c956-428e-ab9a-baa0798e208d",
   "metadata": {},
   "source": [
    "## Can add in more stuff later but for right now let's just keep it going."
   ]
  }
 ],
 "metadata": {
  "kernelspec": {
   "display_name": "Python 3 (ipykernel)",
   "language": "python",
   "name": "python3"
  },
  "language_info": {
   "codemirror_mode": {
    "name": "ipython",
    "version": 3
   },
   "file_extension": ".py",
   "mimetype": "text/x-python",
   "name": "python",
   "nbconvert_exporter": "python",
   "pygments_lexer": "ipython3",
   "version": "3.11.4"
  }
 },
 "nbformat": 4,
 "nbformat_minor": 5
}
